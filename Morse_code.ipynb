{
 "cells": [
  {
   "cell_type": "code",
   "execution_count": 14,
   "id": "2e084491",
   "metadata": {},
   "outputs": [
    {
     "name": "stdout",
     "output_type": "stream",
     "text": [
      ".-- / -.- --- -. -.-. . / -.- --- -. -.-. --- .-- / .-.- / .-.. ..-- -... .-.. ..-- / . --. --- / .--. .-. --- ... - --- / --- -. / -- -. . / -. . / --- ---. . -. -..- / -. .-. .- .-- .. - ... .-.- End\n",
      "в конце концов я люблю его просто он мне не очень нравится "
     ]
    }
   ],
   "source": [
    "def translate_morze(word_input):\n",
    "\n",
    "    dict_morze = {\n",
    "                    '.-' : 'а',\n",
    "                    '-...' : 'б',\n",
    "                    '.--' : 'в',\n",
    "                    '--.' : 'г',\n",
    "                    '-..' : 'д',\n",
    "                    '.' : 'е',\n",
    "                    '...-' : 'ж',\n",
    "                    '--..' : 'з',\n",
    "                    '..' : 'и',\n",
    "                    '.---' : 'й',\n",
    "                    '-.-' : 'к',\n",
    "                    '.-..' : 'л',\n",
    "                    '--' : 'м',\n",
    "                    '-.' : 'н',\n",
    "                    '---' : 'о',\n",
    "                    '.--.' : 'п',\n",
    "                    '.-.' : 'р',\n",
    "                    '...' : 'с',\n",
    "                    '-' : 'т',\n",
    "                    '..-' : 'у',\n",
    "                    '..-.' : 'ф',\n",
    "                    '....' : 'х',\n",
    "                    '-.-.' : 'ц',\n",
    "                    '---.' : 'ч',\n",
    "                    '----' : 'ш',\n",
    "                    '--.-' : 'щ',\n",
    "                    '.--.-.' : 'ъ',\n",
    "                    '-.--' : 'ы',\n",
    "                    '-..-' : 'ь',\n",
    "                    '..-..' : 'э',\n",
    "                    '..--' : 'ю',\n",
    "                    '.-.-' : 'я'\n",
    "       }\n",
    "    \n",
    "    by_letter = word_input.split()\n",
    "    \n",
    "    word_output = ''\n",
    "    for i in by_letter:\n",
    "        word_output = word_output + dict_morze[i]\n",
    "    \n",
    "    return word_output\n",
    "\n",
    "\n",
    "by_words_input = input().split(' / ')\n",
    "by_words_input[-1] = by_words_input[-1][:-4]   #njnn Удаление End в конце предложения\n",
    "\n",
    "for i in by_words_input:\n",
    "    print(translate_morze(i), end = ' ')\n"
   ]
  },
  {
   "cell_type": "code",
   "execution_count": null,
   "id": "b028b1b2",
   "metadata": {},
   "outputs": [],
   "source": []
  }
 ],
 "metadata": {
  "kernelspec": {
   "display_name": "Python 3 (ipykernel)",
   "language": "python",
   "name": "python3"
  },
  "language_info": {
   "codemirror_mode": {
    "name": "ipython",
    "version": 3
   },
   "file_extension": ".py",
   "mimetype": "text/x-python",
   "name": "python",
   "nbconvert_exporter": "python",
   "pygments_lexer": "ipython3",
   "version": "3.10.4"
  }
 },
 "nbformat": 4,
 "nbformat_minor": 5
}
