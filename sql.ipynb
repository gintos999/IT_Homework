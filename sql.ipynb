{
 "cells": [
  {
   "cell_type": "code",
   "execution_count": 106,
   "id": "c6e51a40",
   "metadata": {},
   "outputs": [],
   "source": [
    "import sqlite3"
   ]
  },
  {
   "cell_type": "code",
   "execution_count": 107,
   "id": "760819bf",
   "metadata": {},
   "outputs": [],
   "source": [
    "DB_PATH = \"databases/carsharing.db\""
   ]
  },
  {
   "cell_type": "code",
   "execution_count": 108,
   "id": "7cfd9740",
   "metadata": {},
   "outputs": [],
   "source": [
    "connection = sqlite3.connect(DB_PATH)"
   ]
  },
  {
   "cell_type": "markdown",
   "id": "0b4c188c",
   "metadata": {},
   "source": [
    "##### Создание баз данных"
   ]
  },
  {
   "cell_type": "code",
   "execution_count": 109,
   "id": "716a5a13",
   "metadata": {},
   "outputs": [],
   "source": [
    "cursor = connection.cursor()\n",
    "cursor.execute('''\n",
    "    CREATE TABLE IF NOT EXISTS Car(\n",
    "        id INTEGER PRIMARY KEY,\n",
    "        brand TEXT,\n",
    "        license_plates TEXT,\n",
    "        fuel INTEGER,\n",
    "        location TEXT\n",
    "    );\n",
    "''')\n",
    "\n",
    "cars = [\n",
    "        ('Mazda CX-9', 'Е103ВЛ', 512, 'Ленинский пр-т, 109'),\n",
    "        ('Mazda 6', 'П706ВД', 157, 'ул. Веерная, 30'),\n",
    "        ('Nissan Qashqai', 'Р800НГ', 301, 'ул. Маршала Василевского, 7к2'),\n",
    "        ('Scoda Octavia', 'Ш871АУ', 243, 'ул. Ладожская, 2/37'),\n",
    "        ('Mercedes-Benz E200', 'У901ВФ', 289, 'ул. Башиловская, 19')\n",
    "]\n",
    "\n",
    "cursor.executemany(\n",
    "    \"\"\"INSERT INTO Car(brand, license_plates, fuel, location)\n",
    "       VALUES (?, ?, ?, ?);\"\"\",\n",
    "    cars\n",
    ")\n",
    "\n",
    "cursor.execute('''\n",
    "    CREATE TABLE IF NOT EXISTS Driver(\n",
    "        id INTEGER PRIMARY KEY,\n",
    "        name TEXT,\n",
    "        age INTEGER,\n",
    "        experience REAL\n",
    "    );\n",
    "''')\n",
    "\n",
    "drivers = [\n",
    "        ('Е. Виноградов', 27, 1.2),\n",
    "        ('Н. Пузанков', 31, 10.5),\n",
    "        ('К. Ковалёв', 21, 1.0),\n",
    "        ('И. Заречный', 35, 5.7)\n",
    "]\n",
    "\n",
    "cursor.executemany(\n",
    "    \"\"\"INSERT INTO Driver(name, age, experience)\n",
    "       VALUES (?, ?, ?);\"\"\",\n",
    "    drivers\n",
    ")\n",
    "\n",
    "cursor.execute('''\n",
    "        CREATE TABLE IF NOT EXISTS Renting(\n",
    "        id INTEGER PRIMARY KEY,\n",
    "        driver_id INTEGER,\n",
    "        car_id INTEGER,\n",
    "        cost INTEGER,\n",
    "        date TEXT,\n",
    "        start_time TEXT,\n",
    "        FOREIGN KEY (driver_id) REFERENCES Driver (id),\n",
    "        FOREIGN KEY (car_id) REFERENCES Car (id)\n",
    "    );\n",
    "''')\n",
    "\n",
    "\n",
    "rentings = [\n",
    "    (1, 1, 618, '2023-03-01', '08:15:57'),\n",
    "    (2, 4, 507, '2023-03-18', '10:27:41'),\n",
    "    (1, 3, 640, '2023-03-18', '21:19:10'),\n",
    "    (3, 3, 328, '2023-04-10', '01:15:34')\n",
    "]\n",
    "\n",
    "cursor.executemany(\n",
    "    \"\"\"INSERT INTO Renting(driver_id, car_id, cost, date, start_time)\n",
    "       VALUES (?, ?, ?, ?, ?);\"\"\",\n",
    "    rentings\n",
    ")\n",
    "connection.commit()"
   ]
  },
  {
   "cell_type": "markdown",
   "id": "ace63d66",
   "metadata": {},
   "source": [
    "##### Вывод всех строк баз данных"
   ]
  },
  {
   "cell_type": "code",
   "execution_count": 110,
   "id": "9b8838f6",
   "metadata": {},
   "outputs": [],
   "source": [
    "def output_all(connection, table_name: str) -> None:\n",
    "    cursor = connection.cursor()\n",
    "\n",
    "    for row in cursor.execute(f\"SELECT * FROM {table_name};\"):\n",
    "        print(row)"
   ]
  },
  {
   "cell_type": "code",
   "execution_count": 111,
   "id": "8870251c",
   "metadata": {},
   "outputs": [
    {
     "name": "stdout",
     "output_type": "stream",
     "text": [
      "(1, 'Mazda CX-9', 'Е103ВЛ', 512, 'Ленинский пр-т, 109')\n",
      "(2, 'Mazda 6', 'П706ВД', 157, 'ул. Веерная, 30')\n",
      "(3, 'Nissan Qashqai', 'Р800НГ', 301, 'ул. Маршала Василевского, 7к2')\n",
      "(4, 'Scoda Octavia', 'Ш871АУ', 243, 'ул. Ладожская, 2/37')\n",
      "(5, 'Mercedes-Benz E200', 'У901ВФ', 289, 'ул. Башиловская, 19')\n"
     ]
    }
   ],
   "source": [
    "output_all(connection, 'Car')"
   ]
  },
  {
   "cell_type": "code",
   "execution_count": 112,
   "id": "e09d19cb",
   "metadata": {},
   "outputs": [
    {
     "name": "stdout",
     "output_type": "stream",
     "text": [
      "(1, 'Е. Виноградов', 27, 1.2)\n",
      "(2, 'Н. Пузанков', 31, 10.5)\n",
      "(3, 'К. Ковалёв', 21, 1.0)\n",
      "(4, 'И. Заречный', 35, 5.7)\n"
     ]
    }
   ],
   "source": [
    "output_all(connection, 'Driver')"
   ]
  },
  {
   "cell_type": "code",
   "execution_count": 113,
   "id": "8859d218",
   "metadata": {},
   "outputs": [
    {
     "name": "stdout",
     "output_type": "stream",
     "text": [
      "(1, 1, 1, 618, '2023-03-01', '08:15:57')\n",
      "(2, 2, 4, 507, '2023-03-18', '10:27:41')\n",
      "(3, 1, 3, 640, '2023-03-18', '21:19:10')\n",
      "(4, 3, 3, 328, '2023-04-10', '01:15:34')\n"
     ]
    }
   ],
   "source": [
    "output_all(connection, 'Renting')"
   ]
  },
  {
   "cell_type": "markdown",
   "id": "e8f68162",
   "metadata": {},
   "source": [
    "##### Вывод марок машин"
   ]
  },
  {
   "cell_type": "code",
   "execution_count": 114,
   "id": "2b900afd",
   "metadata": {},
   "outputs": [],
   "source": [
    "def print_cars(connection):\n",
    "    cursor = connection.cursor()\n",
    "    for row in cursor.execute(\"SELECT brand FROM Car;\"):\n",
    "        print(row[0])"
   ]
  },
  {
   "cell_type": "code",
   "execution_count": 115,
   "id": "b439ee6e",
   "metadata": {},
   "outputs": [
    {
     "name": "stdout",
     "output_type": "stream",
     "text": [
      "Mazda CX-9\n",
      "Mazda 6\n",
      "Nissan Qashqai\n",
      "Scoda Octavia\n",
      "Mercedes-Benz E200\n"
     ]
    }
   ],
   "source": [
    "print_cars(connection)"
   ]
  },
  {
   "cell_type": "markdown",
   "id": "45e86e7b",
   "metadata": {},
   "source": [
    "##### Вывод имён пользователей"
   ]
  },
  {
   "cell_type": "code",
   "execution_count": 116,
   "id": "1509d8f7",
   "metadata": {},
   "outputs": [],
   "source": [
    "def print_drivers(connection):\n",
    "    cursor = connection.cursor()\n",
    "    for row in cursor.execute(\"SELECT name FROM Driver;\"):\n",
    "        print(row[0])"
   ]
  },
  {
   "cell_type": "code",
   "execution_count": 117,
   "id": "e4e43a76",
   "metadata": {},
   "outputs": [
    {
     "name": "stdout",
     "output_type": "stream",
     "text": [
      "Е. Виноградов\n",
      "Н. Пузанков\n",
      "К. Ковалёв\n",
      "И. Заречный\n"
     ]
    }
   ],
   "source": [
    "print_drivers(connection)"
   ]
  },
  {
   "cell_type": "markdown",
   "id": "433ecd29",
   "metadata": {},
   "source": [
    "##### Возможность добавления новой машины"
   ]
  },
  {
   "cell_type": "code",
   "execution_count": 118,
   "id": "f9ecd90d",
   "metadata": {},
   "outputs": [],
   "source": [
    "def add_car(connection, car: tuple):\n",
    "    cursor = connection.cursor()\n",
    "    cursor.executemany(\n",
    "    \"\"\"INSERT INTO Car(brand, fuel, location)\n",
    "       VALUES (?, ?, ?);\"\"\",\n",
    "    car\n",
    "    )\n",
    "    connection.commit()"
   ]
  },
  {
   "cell_type": "code",
   "execution_count": 119,
   "id": "b1b1f167",
   "metadata": {},
   "outputs": [],
   "source": [
    "car = [('Hyundai Creta', 333, 'пр-т 60-летия Октября, 20'),\n",
    "       ('Renault Duster', 414, 'ул. Дмитрия Ульянова, 13к1')]"
   ]
  },
  {
   "cell_type": "code",
   "execution_count": 120,
   "id": "7cbc2299",
   "metadata": {},
   "outputs": [
    {
     "name": "stdout",
     "output_type": "stream",
     "text": [
      "(1, 'Mazda CX-9', 'Е103ВЛ', 512, 'Ленинский пр-т, 109')\n",
      "(2, 'Mazda 6', 'П706ВД', 157, 'ул. Веерная, 30')\n",
      "(3, 'Nissan Qashqai', 'Р800НГ', 301, 'ул. Маршала Василевского, 7к2')\n",
      "(4, 'Scoda Octavia', 'Ш871АУ', 243, 'ул. Ладожская, 2/37')\n",
      "(5, 'Mercedes-Benz E200', 'У901ВФ', 289, 'ул. Башиловская, 19')\n",
      "(6, 'Hyundai Creta', None, 333, 'пр-т 60-летия Октября, 20')\n",
      "(7, 'Renault Duster', None, 414, 'ул. Дмитрия Ульянова, 13к1')\n"
     ]
    }
   ],
   "source": [
    "add_car(connection, car)\n",
    "output_all(connection, 'Car')"
   ]
  },
  {
   "cell_type": "markdown",
   "id": "a4a237de",
   "metadata": {},
   "source": [
    "##### Возможность добавления пользователя"
   ]
  },
  {
   "cell_type": "code",
   "execution_count": 121,
   "id": "2f300000",
   "metadata": {},
   "outputs": [],
   "source": [
    "def add_driver(connection, driver:tuple):\n",
    "    cursor = connection.cursor()\n",
    "    cursor.executemany(\n",
    "    \"\"\"INSERT INTO Driver(name, age, experience)\n",
    "       VALUES (?, ?, ?);\"\"\",\n",
    "    driver\n",
    "    )\n",
    "    connection.commit()"
   ]
  },
  {
   "cell_type": "code",
   "execution_count": 122,
   "id": "cf2093e4",
   "metadata": {},
   "outputs": [],
   "source": [
    "driver = [('С. Иванов', 45, 14.9)]"
   ]
  },
  {
   "cell_type": "code",
   "execution_count": 123,
   "id": "3327c4b5",
   "metadata": {},
   "outputs": [
    {
     "name": "stdout",
     "output_type": "stream",
     "text": [
      "(1, 'Е. Виноградов', 27, 1.2)\n",
      "(2, 'Н. Пузанков', 31, 10.5)\n",
      "(3, 'К. Ковалёв', 21, 1.0)\n",
      "(4, 'И. Заречный', 35, 5.7)\n",
      "(5, 'С. Иванов', 45, 14.9)\n"
     ]
    }
   ],
   "source": [
    "add_driver(connection, driver)\n",
    "output_all(connection, 'Driver')"
   ]
  },
  {
   "cell_type": "markdown",
   "id": "b4144a0e",
   "metadata": {},
   "source": [
    "##### Возможность добавления аренды машины"
   ]
  },
  {
   "cell_type": "code",
   "execution_count": 124,
   "id": "1b504e14",
   "metadata": {},
   "outputs": [],
   "source": [
    "def give_avto(connection, driver, car: tuple, cost, date, start_time, new_loc):\n",
    "    cursor = connection.cursor()\n",
    "    \n",
    "    cursor.execute(f\"SELECT * FROM Driver WHERE name = '{driver}'\")\n",
    "    driver_id = cursor.fetchone()[0]\n",
    "    cursor.execute(f\"SELECT * FROM Car WHERE brand = '{car[0]}' AND license_plates = '{car[1]}'\")\n",
    "    car_id = cursor.fetchone()[0]\n",
    "    \n",
    "# Наверное можно так сделать, но это в случае, если в базу данных сразу вносится информация о заключении аренды\n",
    "#     from datetime import datetime\n",
    "#     date = datetime.today().strftime('%Y-%m-%d')\n",
    "    \n",
    "    value = [(driver_id, car_id, cost, date, start_time)]\n",
    "    cursor.executemany(\n",
    "    \"\"\"INSERT INTO Renting(driver_id, car_id, cost, date, start_time)\n",
    "       VALUES (?, ?, ?, ?, ?);\"\"\",\n",
    "    value\n",
    "    )\n",
    "    \n",
    "    \n",
    "    cursor.execute(\n",
    "    f\"UPDATE Car SET location = '{new_loc}' WHERE brand = '{car[0]}' AND license_plates = '{car[1]}'\",\n",
    "    )\n",
    "    \n",
    "    \n",
    "    connection.commit()"
   ]
  },
  {
   "cell_type": "code",
   "execution_count": 125,
   "id": "d8ee0533",
   "metadata": {},
   "outputs": [],
   "source": [
    "give_avto(connection, 'И. Заречный', ('Mercedes-Benz E200', 'У901ВФ'), 580, '2023-04-14', '15:04:45', 'ул. Вавилова, 82')"
   ]
  },
  {
   "cell_type": "code",
   "execution_count": 126,
   "id": "afb242b2",
   "metadata": {},
   "outputs": [
    {
     "name": "stdout",
     "output_type": "stream",
     "text": [
      "(1, 1, 1, 618, '2023-03-01', '08:15:57')\n",
      "(2, 2, 4, 507, '2023-03-18', '10:27:41')\n",
      "(3, 1, 3, 640, '2023-03-18', '21:19:10')\n",
      "(4, 3, 3, 328, '2023-04-10', '01:15:34')\n",
      "(5, 4, 5, 580, '2023-04-14', '15:04:45')\n"
     ]
    }
   ],
   "source": [
    "output_all(connection, 'Renting')"
   ]
  },
  {
   "cell_type": "code",
   "execution_count": 127,
   "id": "dc6f4536",
   "metadata": {},
   "outputs": [
    {
     "name": "stdout",
     "output_type": "stream",
     "text": [
      "(1, 'Mazda CX-9', 'Е103ВЛ', 512, 'Ленинский пр-т, 109')\n",
      "(2, 'Mazda 6', 'П706ВД', 157, 'ул. Веерная, 30')\n",
      "(3, 'Nissan Qashqai', 'Р800НГ', 301, 'ул. Маршала Василевского, 7к2')\n",
      "(4, 'Scoda Octavia', 'Ш871АУ', 243, 'ул. Ладожская, 2/37')\n",
      "(5, 'Mercedes-Benz E200', 'У901ВФ', 289, 'ул. Вавилова, 82')\n",
      "(6, 'Hyundai Creta', None, 333, 'пр-т 60-летия Октября, 20')\n",
      "(7, 'Renault Duster', None, 414, 'ул. Дмитрия Ульянова, 13к1')\n"
     ]
    }
   ],
   "source": [
    "output_all(connection, 'Car')"
   ]
  },
  {
   "cell_type": "markdown",
   "id": "987abd61",
   "metadata": {},
   "source": [
    "##### Удаление пользователя (например, лишили водительских прав)"
   ]
  },
  {
   "cell_type": "code",
   "execution_count": 88,
   "id": "f5bc8148",
   "metadata": {},
   "outputs": [],
   "source": [
    "def del_user(connection, driver):\n",
    "    cursor.execute(f\"SELECT * FROM Driver WHERE name = '{driver}'\")\n",
    "    driver_id = cursor.fetchone()[0]\n",
    "    \n",
    "    cursor.execute(f\"DELETE FROM Renting WHERE driver_id = '{driver_id}'\")\n",
    "    cursor.execute(f\"DELETE FROM Driver WHERE name = '{driver}'\")\n",
    "    \n",
    "    connection.commit()"
   ]
  },
  {
   "cell_type": "code",
   "execution_count": 89,
   "id": "0d475695",
   "metadata": {},
   "outputs": [],
   "source": [
    "del_user(connection, 'Н. Пузанков')"
   ]
  },
  {
   "cell_type": "code",
   "execution_count": 90,
   "id": "f4b6f420",
   "metadata": {},
   "outputs": [
    {
     "name": "stdout",
     "output_type": "stream",
     "text": [
      "(1, 'Е. Виноградов', 27, 1.2)\n",
      "(3, 'К. Ковалёв', 21, 1.0)\n",
      "(4, 'И. Заречный', 35, 5.7)\n",
      "(5, 'С. Иванов', 45, 14.9)\n"
     ]
    }
   ],
   "source": [
    "output_all(connection, 'Driver')"
   ]
  },
  {
   "cell_type": "code",
   "execution_count": 91,
   "id": "3569edaf",
   "metadata": {},
   "outputs": [
    {
     "name": "stdout",
     "output_type": "stream",
     "text": [
      "(1, 1, 1, 618, '2023-03-01', '08:15:57')\n",
      "(3, 1, 3, 640, '2023-03-18', '21:19:10')\n",
      "(4, 3, 3, 328, '2023-04-10', '01:15:34')\n",
      "(5, 4, 5, 580, '2023-04-14', '15:04:45')\n"
     ]
    }
   ],
   "source": [
    "output_all(connection, 'Renting')"
   ]
  },
  {
   "cell_type": "markdown",
   "id": "9c9e9afa",
   "metadata": {},
   "source": [
    "##### Удаление автомобиля (возможно ремонт)"
   ]
  },
  {
   "cell_type": "code",
   "execution_count": 98,
   "id": "0b7e0c83",
   "metadata": {},
   "outputs": [],
   "source": [
    "def del_avto(connection, car):\n",
    "    cursor.execute(f\"SELECT * FROM Car WHERE brand = '{car}'\")\n",
    "    car_id = cursor.fetchone()[0]\n",
    "    \n",
    "    cursor.execute(f\"DELETE FROM Renting WHERE car_id = '{car_id}'\")\n",
    "    cursor.execute(f\"DELETE FROM Car WHERE brand = '{car}'\")\n",
    "    \n",
    "    connection.commit()"
   ]
  },
  {
   "cell_type": "code",
   "execution_count": 99,
   "id": "f50efdc3",
   "metadata": {},
   "outputs": [],
   "source": [
    "del_avto(connection, 'Mazda CX-9')"
   ]
  },
  {
   "cell_type": "code",
   "execution_count": 100,
   "id": "69adf398",
   "metadata": {},
   "outputs": [
    {
     "name": "stdout",
     "output_type": "stream",
     "text": [
      "(2, 'Mazda 6', 'П706ВД', 157, 'ул. Веерная, 30')\n",
      "(3, 'Nissan Qashqai', 'Р800НГ', 301, 'ул. Маршала Василевского, 7к2')\n",
      "(4, 'Scoda Octavia', 'Ш871АУ', 243, 'ул. Ладожская, 2/37')\n",
      "(5, 'Mercedes-Benz E200', 'У901ВФ', 289, 'ул. Вавилова, 82')\n",
      "(6, 'Hyundai Creta', None, 333, 'пр-т 60-летия Октября, 20')\n",
      "(7, 'Renault Duster', None, 414, 'ул. Дмитрия Ульянова, 13к1')\n"
     ]
    }
   ],
   "source": [
    "output_all(connection, 'Car')"
   ]
  },
  {
   "cell_type": "code",
   "execution_count": 101,
   "id": "09cc133f",
   "metadata": {},
   "outputs": [
    {
     "name": "stdout",
     "output_type": "stream",
     "text": [
      "(3, 1, 3, 640, '2023-03-18', '21:19:10')\n",
      "(4, 3, 3, 328, '2023-04-10', '01:15:34')\n",
      "(5, 4, 5, 580, '2023-04-14', '15:04:45')\n"
     ]
    }
   ],
   "source": [
    "output_all(connection, 'Renting')"
   ]
  },
  {
   "cell_type": "markdown",
   "id": "8afd6845",
   "metadata": {},
   "source": [
    "##### Создал заново таблицу и добавил всё выше, при этом ничего не удаляя"
   ]
  },
  {
   "cell_type": "markdown",
   "id": "563e0e61",
   "metadata": {},
   "source": [
    "##### Подсчёт общего числа элементов в таблице"
   ]
  },
  {
   "cell_type": "code",
   "execution_count": 152,
   "id": "000717a2",
   "metadata": {},
   "outputs": [],
   "source": [
    "def quantity(connection, table):\n",
    "    cursor.execute(f\"SELECT * FROM '{table}'\")\n",
    "    print(len(cursor.fetchall()))"
   ]
  },
  {
   "cell_type": "markdown",
   "id": "5177a385",
   "metadata": {},
   "source": [
    "##### Общее количество автомобилей в парке"
   ]
  },
  {
   "cell_type": "code",
   "execution_count": 153,
   "id": "d953d291",
   "metadata": {},
   "outputs": [
    {
     "name": "stdout",
     "output_type": "stream",
     "text": [
      "7\n"
     ]
    }
   ],
   "source": [
    "quantity(connection, 'Car')"
   ]
  },
  {
   "cell_type": "markdown",
   "id": "bc1b4a80",
   "metadata": {},
   "source": [
    "##### Общее количество пользователей"
   ]
  },
  {
   "cell_type": "code",
   "execution_count": 154,
   "id": "7e64f5dd",
   "metadata": {},
   "outputs": [
    {
     "name": "stdout",
     "output_type": "stream",
     "text": [
      "5\n"
     ]
    }
   ],
   "source": [
    "quantity(connection, 'Driver')"
   ]
  },
  {
   "cell_type": "markdown",
   "id": "27fd4e66",
   "metadata": {},
   "source": [
    "##### Пользователь, который чаще всего пользуется услугами аренды автомобилей"
   ]
  },
  {
   "cell_type": "code",
   "execution_count": 186,
   "id": "bdd20720",
   "metadata": {},
   "outputs": [
    {
     "data": {
      "text/plain": [
       "'Е. Виноградов'"
      ]
     },
     "execution_count": 186,
     "metadata": {},
     "output_type": "execute_result"
    }
   ],
   "source": [
    "cursor.execute(\"\"\"  SELECT\n",
    "                        driver_id,\n",
    "                    COUNT(driver_id) AS `value_occurrence` \n",
    "                    FROM\n",
    "                        'Renting'\n",
    "                    GROUP BY \n",
    "                        driver_id\n",
    "\n",
    "                    ORDER BY \n",
    "                          `value_occurrence` DESC\"\"\")\n",
    "cursor.execute(f\"SELECT * FROM 'Driver' WHERE ID = '{cursor.fetchall()[0][0]}'\")\n",
    "cursor.fetchone()[1]"
   ]
  },
  {
   "cell_type": "markdown",
   "id": "ec4f92a1",
   "metadata": {},
   "source": [
    "##### Автомобиль, который чаще всего используется"
   ]
  },
  {
   "cell_type": "code",
   "execution_count": 187,
   "id": "058ced72",
   "metadata": {},
   "outputs": [
    {
     "data": {
      "text/plain": [
       "'Nissan Qashqai'"
      ]
     },
     "execution_count": 187,
     "metadata": {},
     "output_type": "execute_result"
    }
   ],
   "source": [
    "cursor.execute(\"\"\"  SELECT\n",
    "                        car_id,\n",
    "                    COUNT(car_id) AS `value_occurrence` \n",
    "                    FROM\n",
    "                        'Renting'\n",
    "                    GROUP BY \n",
    "                        car_id\n",
    "                    ORDER BY \n",
    "                          `value_occurrence` DESC\"\"\")\n",
    "cursor.execute(f\"SELECT * FROM 'Car' WHERE ID = '{cursor.fetchall()[0][0]}'\")\n",
    "cursor.fetchone()[1]"
   ]
  },
  {
   "cell_type": "markdown",
   "id": "84f862f0",
   "metadata": {},
   "source": [
    "##### Автомобиль, который дольше всего используется"
   ]
  },
  {
   "cell_type": "code",
   "execution_count": 191,
   "id": "f7a098de",
   "metadata": {},
   "outputs": [
    {
     "data": {
      "text/plain": [
       "'Nissan Qashqai'"
      ]
     },
     "execution_count": 191,
     "metadata": {},
     "output_type": "execute_result"
    }
   ],
   "source": [
    "cursor.execute(\"SELECT car_id, SUM(cost) FROM 'Renting' GROUP BY car_id ORDER BY cost\")\n",
    "cursor.execute(f\"SELECT * FROM 'Car' WHERE ID = '{cursor.fetchall()[-1][0]}'\")\n",
    "cursor.fetchone()[1]"
   ]
  },
  {
   "cell_type": "code",
   "execution_count": null,
   "id": "f0443f88",
   "metadata": {},
   "outputs": [],
   "source": []
  }
 ],
 "metadata": {
  "kernelspec": {
   "display_name": "Python 3 (ipykernel)",
   "language": "python",
   "name": "python3"
  },
  "language_info": {
   "codemirror_mode": {
    "name": "ipython",
    "version": 3
   },
   "file_extension": ".py",
   "mimetype": "text/x-python",
   "name": "python",
   "nbconvert_exporter": "python",
   "pygments_lexer": "ipython3",
   "version": "3.10.4"
  }
 },
 "nbformat": 4,
 "nbformat_minor": 5
}
